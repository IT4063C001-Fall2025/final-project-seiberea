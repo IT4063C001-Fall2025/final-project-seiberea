{
 "cells": [
  {
   "attachments": {},
   "cell_type": "markdown",
   "metadata": {},
   "source": [
    "# The Effects of Social Media 📝\n",
    "\n",
    "![Banner](./assets/banner.jpeg)"
   ]
  },
  {
   "attachments": {},
   "cell_type": "markdown",
   "metadata": {},
   "source": [
    "## Topic\n",
    "*What problem are you (or your stakeholder) trying to address?*\n",
    "📝 <!-- Answer Below -->\n",
    "\n",
    "\n",
    "Social Media and its Affect on Mental Health.\n",
    "\n",
    "\n",
    "Since the introduction of social media, patterens have been discovered that may correlate with reported mental health concerns in the youth population. Social media is now a staple in our daily lives and it's hard to come by someone who DOESN'T have any sort of social media account. Platforms like Tiktok, Twitter and Snapchat have all become way how we perceive the world around us and express ourselves. While on the surface it may seem harmless, studdies have shown that it just may do the exact opposite. This project aims to explore the depths of how social media may be the root cause of many mental health reports."
   ]
  },
  {
   "attachments": {},
   "cell_type": "markdown",
   "metadata": {},
   "source": [
    "## Project Question\n",
    "*What specific question are you seeking to answer with this project?*\n",
    "*This is not the same as the questions you ask to limit the scope of the project.*\n",
    "📝 <!-- Answer Below -->\n",
    "\n",
    "\n",
    "Does the amount of time spent on specific platforms correlate with anxiety or depression trends?\n"
   ]
  },
  {
   "attachments": {},
   "cell_type": "markdown",
   "metadata": {},
   "source": [
    "## What would an answer look like?\n",
    "*What is your hypothesized answer to your question?*\n",
    "📝 <!-- Answer Below -->\n",
    "\n",
    "A scatter plot showing average daily screen time vs. self-reported anxiety scores.\n",
    "- X-axis: Hours spent on social media per day\n",
    "- Y-axis: Anxiety score from a standardized survey.\n",
    "- Trend line: Positive slope could suggest higher screen time correlates with higher anxiety.\n",
    "\n"
   ]
  },
  {
   "attachments": {},
   "cell_type": "markdown",
   "metadata": {},
   "source": [
    "## Data Sources\n",
    "*What 3 data sources have you identified for this project?*\n",
    "*How are you going to relate these datasets?*\n",
    "📝 <!-- Answer Below -->\n",
    "\n",
    "Kaggle - Students' Social Media Addiction (https://www.kaggle.com/datasets/adilshamim8/social-media-addiction-vs-relationships?select=Students+Social+Media+Addiction.csv)\n",
    "\n",
    "GitHub - Mental Health Datasets (https://github.com/kharrigian/mental-health-datasets)\n",
    "\n",
    "Kaggle - Social Media and Mental Health (https://www.kaggle.com/datasets/souvikahmed071/social-media-and-mental-health)"
   ]
  },
  {
   "attachments": {},
   "cell_type": "markdown",
   "metadata": {},
   "source": [
    "## Approach and Analysis\n",
    "*What is your approach to answering your project question?*\n",
    "*How will you use the identified data to answer your project question?*\n",
    "📝 <!-- Start Discussing the project here; you can add as many code cells as you need -->"
   ]
  },
  {
   "cell_type": "code",
   "execution_count": null,
   "metadata": {},
   "outputs": [],
   "source": [
    "import pandas as pd\n",
    "import opendatasets as od\n",
    "od.download(\"https://www.kaggle.com/datasets/adilshamim8/social-media-addiction-vs-relationships?select=Students+Social+Media+Addiction.csv\")\n",
    "od.download(\"https://www.kaggle.com/datasets/souvikahmed071/social-media-and-mental-health\")\n",
    "\n",
    "df = pd.read_excel(\"data_sources_standardized.xlsx\")\n",
    "\n",
    "# 3 different datasets as well as 2 different data types. (Excel and CSV, as well as 2 different import methods, API and pandas read_excel function)\n"
   ]
  },
  {
   "attachments": {},
   "cell_type": "markdown",
   "metadata": {},
   "source": [
    "## Resources and References\n",
    "*What resources and references have you used for this project?*\n",
    "📝 <!-- Answer Below -->"
   ]
  },
  {
   "cell_type": "code",
   "execution_count": null,
   "metadata": {},
   "outputs": [
    {
     "name": "stdout",
     "output_type": "stream",
     "text": [
      "[NbConvertApp] Converting notebook source.ipynb to python\n",
      "[NbConvertApp] Writing 1271 bytes to source.py\n"
     ]
    }
   ],
   "source": [
    "# ⚠️ Make sure you run this cell at the end of your notebook before every submission!\n",
    "!jupyter nbconvert --to python source.ipynb"
   ]
  }
 ],
 "metadata": {
  "kernelspec": {
   "display_name": "final-project-seiberea-Jqu6WK7r",
   "language": "python",
   "name": "python3"
  },
  "language_info": {
   "codemirror_mode": {
    "name": "ipython",
    "version": 3
   },
   "file_extension": ".py",
   "mimetype": "text/x-python",
   "name": "python",
   "nbconvert_exporter": "python",
   "pygments_lexer": "ipython3",
   "version": "3.11.9"
  },
  "orig_nbformat": 4
 },
 "nbformat": 4,
 "nbformat_minor": 2
}
